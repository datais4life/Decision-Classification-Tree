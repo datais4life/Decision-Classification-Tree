{
 "cells": [
  {
   "cell_type": "code",
   "execution_count": null,
   "id": "0dffc8eb",
   "metadata": {},
   "outputs": [],
   "source": [
    "# Importing the libraries needed.\n",
    "\n",
    "# Data science libraries.\n",
    "import numpy as np\n",
    "import pandas as pd\n",
    "from pandas import DataFrame\n",
    "\n",
    "# Visualization libraries.\n",
    "import seaborn as sns\n",
    "import plotnine as p9\n",
    "import matplotlib.pyplot as plt\n",
    "%matplotlib inline\n",
    "\n",
    "# Statistics packages.\n",
    "import pylab as py\n",
    "import statsmodels.api as sm\n",
    "import statsmodels.formula.api as smf\n",
    "import statistics\n",
    "from scipy import stats\n",
    "\n",
    "# Chisquare package.\n",
    "from scipy.stats import chisquare\n",
    "from scipy.stats import chi2_contingency"
   ]
  },
  {
   "cell_type": "code",
   "execution_count": null,
   "id": "52538c4d",
   "metadata": {},
   "outputs": [],
   "source": [
    "# Load the data.\n",
    "df = pd.read_csv('/Users/jillrivera/Documents/WGU/206 Data Cleaning/Churn Data/churn_clean.csv')\n",
    "df.head()"
   ]
  },
  {
   "cell_type": "code",
   "execution_count": null,
   "id": "21cb73ab",
   "metadata": {},
   "outputs": [],
   "source": [
    "# Get a list of the columns/variables.\n",
    "df.columns"
   ]
  },
  {
   "cell_type": "code",
   "execution_count": null,
   "id": "9d799584",
   "metadata": {},
   "outputs": [],
   "source": [
    "# Drop the irrelevant variables.\n",
    "df2 = df.drop(['Unnamed: 0', 'Customer_id', 'Interaction', 'City', 'State', 'County',\n",
    "       'Zip', 'Lat', 'Lng', 'Population', 'Area', 'Timezone', 'Job', 'Education', 'Employment'], axis=1)\n",
    "df2.head()"
   ]
  },
  {
   "cell_type": "code",
   "execution_count": null,
   "id": "aa530fa8",
   "metadata": {},
   "outputs": [],
   "source": [
    "df2.columns"
   ]
  },
  {
   "cell_type": "code",
   "execution_count": null,
   "id": "5ad5dceb",
   "metadata": {},
   "outputs": [],
   "source": [
    "# View a correlation heatmap of the variiables.\n",
    "plt.figure(figsize=(16, 6))\n",
    "heatmap = sns.heatmap(df2.corr(), vmin=-1, vmax=1, annot=True, cmap='BrBG')\n",
    "heatmap.set_title('Correlation Heatmap', fontdict={'fontsize':12}, pad=12)"
   ]
  },
  {
   "cell_type": "code",
   "execution_count": null,
   "id": "728b4507",
   "metadata": {},
   "outputs": [],
   "source": [
    "# We can see that Tenure, Bandwidth_GB_Year, Timely Response and Timely Fixes are higly correlated. \n",
    "# While Options and Reliability are the lowest correlating variables. "
   ]
  },
  {
   "cell_type": "code",
   "execution_count": null,
   "id": "24bc3cc2",
   "metadata": {},
   "outputs": [],
   "source": [
    "# Show a Q-Q plot of the highly corelated data.\n",
    "sm.qqplot(df2['Tenure'], line = '45')\n",
    "py.show()"
   ]
  },
  {
   "cell_type": "code",
   "execution_count": null,
   "id": "bc06439f",
   "metadata": {},
   "outputs": [],
   "source": [
    "sm.qqplot(df2['Bandwidth_GB_Year'], line = '45')\n",
    "py.show()"
   ]
  },
  {
   "cell_type": "code",
   "execution_count": null,
   "id": "5b16b79a",
   "metadata": {},
   "outputs": [],
   "source": [
    "sm.qqplot(df2['TimelyResponse'], line = '45')\n",
    "py.show()"
   ]
  },
  {
   "cell_type": "code",
   "execution_count": null,
   "id": "99601dda",
   "metadata": {},
   "outputs": [],
   "source": [
    "sm.qqplot(df2['TimelyFixes'], line = '45')\n",
    "py.show()"
   ]
  },
  {
   "cell_type": "code",
   "execution_count": null,
   "id": "917e03de",
   "metadata": {},
   "outputs": [],
   "source": [
    "# From this we determine that Timely Response and Timely Fixes both follow standard deviation the closest. "
   ]
  },
  {
   "cell_type": "code",
   "execution_count": null,
   "id": "5f61d9d6",
   "metadata": {},
   "outputs": [],
   "source": [
    "sm.qqplot(df2['Gender'], line = '45')\n",
    "py.show()"
   ]
  },
  {
   "cell_type": "code",
   "execution_count": null,
   "id": "f5501049",
   "metadata": {},
   "outputs": [],
   "source": [
    "sm.qqplot(df2['Churn'], line = '45')\n",
    "py.show()"
   ]
  },
  {
   "cell_type": "code",
   "execution_count": null,
   "id": "82a8c8cd",
   "metadata": {},
   "outputs": [],
   "source": [
    "# Univariate Statistics on a categorical variable.\n",
    "print(p9.ggplot(df2)+ p9.aes(x='TimelyResponse', fill='Churn')+ p9.geom_density(alpha=0.5))"
   ]
  },
  {
   "cell_type": "code",
   "execution_count": null,
   "id": "a147f4e8",
   "metadata": {},
   "outputs": [],
   "source": [
    "# Univariate Statistics on a categorical variable.\n",
    "plotChurnVTimelyFixes = p9.ggplot(df2)+ p9.aes('Churn', 'TimelyFixes')+ p9.geom_boxplot()\n",
    "print(plotChurnVTimelyFixes)"
   ]
  },
  {
   "cell_type": "code",
   "execution_count": null,
   "id": "ca36263c",
   "metadata": {},
   "outputs": [],
   "source": [
    "# Univariate Statistics on a continuous variable.\n",
    "plotChurnVTenure = p9.ggplot(df2)+ p9.aes('Churn','Tenure')+ p9.geom_boxplot()\n",
    "print(plotChurnVTenure)"
   ]
  },
  {
   "cell_type": "code",
   "execution_count": null,
   "id": "223c2135",
   "metadata": {},
   "outputs": [],
   "source": [
    "# Univariate Statistics on a categorical variable.\n",
    "print(p9.ggplot(df2)+ p9.aes(x='Bandwidth_GB_Year', fill='Churn')+ p9.geom_density(alpha=0.5))"
   ]
  },
  {
   "cell_type": "code",
   "execution_count": null,
   "id": "05555db8",
   "metadata": {},
   "outputs": [],
   "source": [
    "# Bivariate Statistics of categorical variables.\n",
    "print(p9.ggplot(df2)+ p9.aes(x='TimelyResponse', y='TimelyFixes', color='Churn')+ p9.geom_point())"
   ]
  },
  {
   "cell_type": "code",
   "execution_count": null,
   "id": "5b021090",
   "metadata": {},
   "outputs": [],
   "source": [
    "# Bivariate Statistics of continuous variables.\n",
    "print(p9.ggplot(df2)+ p9.aes(x='Bandwidth_GB_Year', y='Tenure', color='Churn')+ p9.geom_point())"
   ]
  },
  {
   "cell_type": "code",
   "execution_count": null,
   "id": "b64fc840",
   "metadata": {},
   "outputs": [],
   "source": [
    "# One-Way ANOVA test on Churn vs. Timely Response\n",
    "ChurnVTimelyResponse = df2[df2.Churn == \"Yes\"].TimelyResponse\n",
    "NoChurnVTimelyResponse = df2[df2.Churn == \"No\"].TimelyResponse\n",
    "anova = stats.f_oneway(ChurnVTimelyResponse, NoChurnVTimelyResponse)\n",
    "print(anova)"
   ]
  },
  {
   "cell_type": "code",
   "execution_count": null,
   "id": "3cf1f131",
   "metadata": {},
   "outputs": [],
   "source": [
    "# One-Way ANOVA test on Churn vs. Timely Fixes\n",
    "ChurnVTimelyFixes = df2[df2.Churn == \"Yes\"].TimelyFixes\n",
    "NoChurnVTimelyFixes = df2[df2.Churn == \"No\"].TimelyFixes\n",
    "anova2 = stats.f_oneway(ChurnVTimelyFixes, NoChurnVTimelyFixes)\n",
    "print(anova2)"
   ]
  },
  {
   "cell_type": "code",
   "execution_count": null,
   "id": "49e139a6",
   "metadata": {},
   "outputs": [],
   "source": [
    "# Churn Chi Squared Test of Independence\n",
    "ChurnRatio = df2['Churn'].value_counts()\n",
    "chi = stats.chisquare(ChurnRatio)\n",
    "print(chi)\n",
    "\n",
    "# Test Significance\n",
    "alpha = 0.05\n",
    "if chi[1] < alpha:\n",
    "    print(\"Difference between yes and no on churn is statistically significant\")\n",
    "else:\n",
    "    print(\"No significant difference between churn response yes and no\")"
   ]
  },
  {
   "cell_type": "code",
   "execution_count": null,
   "id": "681015f6",
   "metadata": {},
   "outputs": [],
   "source": [
    "# Timely Response Chi Squared Test of Independence\n",
    "ResponseRatio = df2['TimelyResponse'].value_counts()\n",
    "chi2 = stats.chisquare(ResponseRatio)\n",
    "print(chi2)\n",
    "\n",
    "# Test Significance\n",
    "alpha = 0.05\n",
    "if chi2[1] < alpha:\n",
    "    print(\"Difference between timely responses is statistically significant\")\n",
    "else:\n",
    "    print(\"No significant difference between timely responses\")"
   ]
  },
  {
   "cell_type": "code",
   "execution_count": null,
   "id": "e36c4f35",
   "metadata": {},
   "outputs": [],
   "source": [
    "# Timely Fixes Chi Squared Test of Independence\n",
    "FixRatio = df2['TimelyFixes'].value_counts()\n",
    "chi3 = stats.chisquare(FixRatio)\n",
    "print(chi3)\n",
    "\n",
    "# Test Significance\n",
    "alpha = 0.05\n",
    "if chi3[1] < alpha:\n",
    "    print(\"Difference between timely fixes is statistically significant\")\n",
    "else:\n",
    "    print(\"No significant difference between timely fixes\")"
   ]
  },
  {
   "cell_type": "code",
   "execution_count": null,
   "id": "6e9d8725",
   "metadata": {},
   "outputs": [],
   "source": [
    "# Tenure Chi Squared Test of Independence\n",
    "TenureRatio = df2['Tenure'].value_counts()\n",
    "chi4 = stats.chisquare(TenureRatio)\n",
    "print(chi4)\n",
    "\n",
    "# Test Significance\n",
    "alpha = 0.05\n",
    "if chi4[1] < alpha:\n",
    "    print(\"Difference between tenure is statistically significant\")\n",
    "else:\n",
    "    print(\"No significant difference between tenure\")"
   ]
  },
  {
   "cell_type": "code",
   "execution_count": null,
   "id": "ed877184",
   "metadata": {},
   "outputs": [],
   "source": [
    "# Gender Chi Squared Test of Independence\n",
    "GenderRatio = df2['Gender'].value_counts()\n",
    "chi5 = stats.chisquare(GenderRatio)\n",
    "print(chi5)\n",
    "\n",
    "# Test Significance\n",
    "alpha = 0.05\n",
    "if chi5[1] < alpha:\n",
    "    print(\"Difference between gender is statistically significant\")\n",
    "else:\n",
    "    print(\"No significant difference between gender\")"
   ]
  },
  {
   "cell_type": "code",
   "execution_count": null,
   "id": "d85fd171",
   "metadata": {},
   "outputs": [],
   "source": [
    "# Chi Squared Test of Independence on Churn vs. Gender\n",
    "\n",
    "table = pd.crosstab(df2.Churn, df2.Gender)\n",
    "print(table)\n",
    "\n",
    "stats.chi2_contingency(observed= table)"
   ]
  },
  {
   "cell_type": "code",
   "execution_count": null,
   "id": "bb46bd01",
   "metadata": {},
   "outputs": [],
   "source": []
  }
 ],
 "metadata": {
  "kernelspec": {
   "display_name": "Python 3 (ipykernel)",
   "language": "python",
   "name": "python3"
  },
  "language_info": {
   "codemirror_mode": {
    "name": "ipython",
    "version": 3
   },
   "file_extension": ".py",
   "mimetype": "text/x-python",
   "name": "python",
   "nbconvert_exporter": "python",
   "pygments_lexer": "ipython3",
   "version": "3.9.10"
  }
 },
 "nbformat": 4,
 "nbformat_minor": 5
}
